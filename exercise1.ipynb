{
 "cells": [
  {
   "cell_type": "markdown",
   "metadata": {},
   "source": [
    "#### Solution 1:\n"
   ]
  },
  {
   "cell_type": "code",
   "execution_count": 1,
   "metadata": {},
   "outputs": [
    {
     "data": {
      "text/plain": [
       "9"
      ]
     },
     "execution_count": 1,
     "metadata": {},
     "output_type": "execute_result"
    }
   ],
   "source": [
    "# Your code goes here\n",
    "\n",
    "example_list = [1, 2, 3, 4, 5,6,7,8,9]\n",
    "\n",
    "def list_length(lst):\n",
    "    count = 0\n",
    "    for i in lst:\n",
    "        count += 1\n",
    "    if count == 0:\n",
    "        print(\"The list is empty!\")\n",
    "    return count\n",
    "\n",
    "list_length(example_list)"
   ]
  },
  {
   "cell_type": "markdown",
   "metadata": {},
   "source": [
    "### Exercise 2:\n",
    "Write a function that receives a string as parameter and return the number of each character in it."
   ]
  },
  {
   "cell_type": "code",
   "execution_count": 2,
   "metadata": {},
   "outputs": [
    {
     "data": {
      "text/plain": [
       "{'s': 3, 'i': 1, 't': 1, 'e': 1, 'r': 1, 'l': 1, 'a': 1, 'b': 1}"
      ]
     },
     "execution_count": 2,
     "metadata": {},
     "output_type": "execute_result"
    }
   ],
   "source": [
    "# Your code goes here\n",
    "\n",
    "string  = \"sisterslab\"\n",
    "def count_char(string):\n",
    "    char_count = {}\n",
    "\n",
    "    for i in string:\n",
    "        if i in char_count:\n",
    "            char_count[i] += 1 \n",
    "        else:\n",
    "            char_count[i] = 1\n",
    "\n",
    "    return char_count\n",
    "\n",
    "\n",
    "count_char(string)"
   ]
  }
 ],
 "metadata": {
  "kernelspec": {
   "display_name": "Python 3",
   "language": "python",
   "name": "python3"
  },
  "language_info": {
   "codemirror_mode": {
    "name": "ipython",
    "version": 3
   },
   "file_extension": ".py",
   "mimetype": "text/x-python",
   "name": "python",
   "nbconvert_exporter": "python",
   "pygments_lexer": "ipython3",
   "version": "3.10.13"
  }
 },
 "nbformat": 4,
 "nbformat_minor": 2
}
